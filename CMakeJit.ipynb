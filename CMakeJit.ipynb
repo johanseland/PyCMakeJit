{
 "metadata": {
  "name": "CMakeJit"
 },
 "nbformat": 3,
 "nbformat_minor": 0,
 "worksheets": [
  {
   "cells": [
    {
     "cell_type": "markdown",
     "metadata": {},
     "source": [
      "<script type=\"text/javascript\">\n",
      "setInterval ( \"IPython.notebook.save_notebook()\", 1*60*1000 );\n",
      "</script>"
     ]
    },
    {
     "cell_type": "markdown",
     "metadata": {},
     "source": [
      "CMakeJit\n",
      "========\n",
      "\n",
      "CMakeJit is a Python package to aid in the runtime compiling and linking of C/C++ from Python using [Boost.Python](http://www.boost.org/doc/libs/1_53_0/libs/python/doc/index.html).\n",
      "\n",
      "It was made because [CodePy](http://mathema.tician.de/software/codepy) does not (yet?) support other platforms than GNU Linux/GCC for it's magic. Instead of trying to reinvent a cross-platform build system to do JITing this package relies on using CMake, which already provides many crossplatform heuristics\n",
      "\n",
      "However, it is recommended to useCodePy to generate the actual source code and pass it into CMakeJit.\n",
      "\n",
      "\n",
      "* Compile times are slower than CodePy since there is an extra CMake-step involved\n",
      "* For complex settings it assumes you know a bit of CMake yourself.\n",
      "\n",
      "Alternatives\n",
      "------------\n",
      "There is several existing projects that have similiar goals, however none of these target Windows development.\n"
     ]
    },
    {
     "cell_type": "markdown",
     "metadata": {},
     "source": [
      "First we wish to compile a C++ file like this:\n",
      "----------------------------------------------\n",
      "\n",
      "**2013-05-10**: Had to recompile Boost for 64-bit using the following command line:\n",
      "\n",
      "`c:\\src\\boost_1_53_0>b2 --libdir=c:\\boost\\lib64 --toolset=msvc-10.0 address-model=64  --build-type=complete --build-dir=c:\\temp\\boostbuild64 install`\n",
      "\n",
      "**2013-05-15**: Lots of problems with `ImportError: DLL load failed: %1 is not a valid Win32 application.` when actually import the module. Are we really running a 64-bit Python?\n",
      "\n",
      "I am trying to recompile Boost 1.53 for 32-bit as well. This failed since no 32-bit python was found. Rebuilding Boost 1.53 without any other Python installed. I have uninstalled a 32-bit Python27 that was present.\n",
      "\n",
      "**2013-05-16**: Using Dependency Walker tells me that Anaconda Python links with MSVCR90.DLL meaning it was compiled with Visual Studio 2008. Trying a 64-bit Boost.Python recompile with that!\n",
      "\n"
     ]
    },
    {
     "cell_type": "code",
     "collapsed": false,
     "input": [
      "%%file cmakejit.cpp\n",
      "#include <boost/python.hpp>\n",
      "#include <iostream>\n",
      "\n",
      "\n",
      "//namespace cmakejit_private {\n",
      "    void hello() {\n",
      "        std::cout << \"Hello world!\" << std::endl;\n",
      "        //return obj;\n",
      "    }\n",
      "//}\n",
      "\n",
      "//using namespace cmakejit_private;\n",
      "BOOST_PYTHON_MODULE( cmakejit_module ) {\n",
      "    using namespace boost::python;\n",
      "    boost::python::def(\"hello\", &hello);\n",
      "}\n"
     ],
     "language": "python",
     "metadata": {},
     "outputs": [
      {
       "output_type": "stream",
       "stream": "stdout",
       "text": [
        "Overwriting cmakejit.cpp\n"
       ]
      }
     ],
     "prompt_number": 1
    },
    {
     "cell_type": "code",
     "collapsed": false,
     "input": [
      "%%file CMakeLists.txt\n",
      "\n",
      "CMAKE_MINIMUM_REQUIRED( VERSION 2.8 )\n",
      "PROJECT( cmakejit_module )\n",
      "\n",
      "SET( CMAKE_BUILD_TYPE \"Release\" )\n",
      "\n",
      "SET( PYTHON_LIBRARY \"c:/anaconda/libs/python27.lib\" )\n",
      "SET( PYTHON_INCLUDE_DIR \"c:/anaconda/include\" )\n",
      "SET( PYTHON_DEBUG 1 )\n",
      "FIND_PACKAGE( PythonLibs )\n",
      "INCLUDE_DIRECTORIES( ${PYTHON_INCLUDE_DIRS} )\n",
      "\n",
      "SET(Boost_DEBUG 1)\n",
      "SET( BOOST_LIBRARYDIR \"c:/boost/lib64\" )\n",
      "SET( BOOST_INCLUDEDIR \"c:/boost/include/boost-1_53\" )\n",
      "FIND_PACKAGE( Boost COMPONENTS python )\n",
      "IF ( Boost_FOUND )\n",
      "    ADD_DEFINITIONS( -DBOOST_ALL_DYN_LINK=1 )\n",
      "    SET( Boost_USE_STATIC_LIBS OFF )\n",
      "    SET( Boost_USE_MULTITHREADING ON )\n",
      "    SET( Boost_USE_STATIC_RUNTIME OFF )\n",
      "    INCLUDE_DIRECTORIES( ${Boost_INCLUDE_DIRS} )\n",
      "    \n",
      "    \n",
      "    ADD_LIBRARY( cmakejit_module SHARED cmakejit.cpp )\n",
      "    TARGET_LINK_LIBRARIES( cmakejit_module ${Boost_LIBRARIES} ${PYTHON_LIBRARIES} )\n",
      "ENDIF()\n"
     ],
     "language": "python",
     "metadata": {},
     "outputs": [
      {
       "output_type": "stream",
       "stream": "stdout",
       "text": [
        "Overwriting CMakeLists.txt\n"
       ]
      }
     ],
     "prompt_number": 9
    },
    {
     "cell_type": "code",
     "collapsed": false,
     "input": [
      "!del CMakeCache.txt\n",
      "!cmake -G \"Visual Studio 9 2008 Win64\" -DCMAKE_BUILD_TYPE=Release"
     ],
     "language": "python",
     "metadata": {},
     "outputs": [
      {
       "output_type": "stream",
       "stream": "stdout",
       "text": [
        "-- Found PythonLibs: c:/anaconda/libs/python27.lib (found version \"2.7.3\") \n",
        "-- [ C:/Program Files (x86)/CMake 2.8/share/cmake-2.8/Modules/FindBoost.cmake:566 ] _boost_TEST_VERSIONS = 1.56.0;1.56;1.55.0;1.55;1.54.0;1.54;1.53.0;1.53;1.52.0;1.52;1.51.0;1.51;1.50.0;1.50;1.49.0;1.49;1.48.0;1.48;1.47.0;1.47;1.46.1;1.46.0;1.46;1.45.0;1.45;1.44.0;1.44;1.43.0;1.43;1.42.0;1.42;1.41.0;1.41;1.40.0;1.40;1.39.0;1.39;1.38.0;1.38;1.37.0;1.37;1.36.1;1.36.0;1.36;1.35.1;1.35.0;1.35;1.34.1;1.34.0;1.34;1.33.1;1.33.0;1.33\n",
        "-- [ C:/Program Files (x86)/CMake 2.8/share/cmake-2.8/Modules/FindBoost.cmake:568 ] Boost_USE_MULTITHREADED = TRUE\n",
        "-- [ C:/Program Files (x86)/CMake 2.8/share/cmake-2.8/Modules/FindBoost.cmake:570 ] Boost_USE_STATIC_LIBS = \n",
        "-- [ C:/Program Files (x86)/CMake 2.8/share/cmake-2.8/Modules/FindBoost.cmake:572 ] Boost_USE_STATIC_RUNTIME = \n",
        "-- [ C:/Program Files (x86)/CMake 2.8/share/cmake-2.8/Modules/FindBoost.cmake:574 ] Boost_ADDITIONAL_VERSIONS = \n",
        "-- [ C:/Program Files (x86)/CMake 2.8/share/cmake-2.8/Modules/FindBoost.cmake:576 ] Boost_NO_SYSTEM_PATHS = \n",
        "-- [ C:/Program Files (x86)/CMake 2.8/share/cmake-2.8/Modules/FindBoost.cmake:644 ] Declared as CMake or Environmental Variables:\n",
        "-- [ C:/Program Files (x86)/CMake 2.8/share/cmake-2.8/Modules/FindBoost.cmake:646 ]   BOOST_ROOT = \n",
        "-- [ C:/Program Files (x86)/CMake 2.8/share/cmake-2.8/Modules/FindBoost.cmake:648 ]   BOOST_INCLUDEDIR = c:/boost/include/boost-1_53\n",
        "-- [ C:/Program Files (x86)/CMake 2.8/share/cmake-2.8/Modules/FindBoost.cmake:650 ]   BOOST_LIBRARYDIR = c:/boost/lib64\n",
        "-- [ C:/Program Files (x86)/CMake 2.8/share/cmake-2.8/Modules/FindBoost.cmake:652 ] _boost_TEST_VERSIONS = 1.56.0;1.56;1.55.0;1.55;1.54.0;1.54;1.53.0;1.53;1.52.0;1.52;1.51.0;1.51;1.50.0;1.50;1.49.0;1.49;1.48.0;1.48;1.47.0;1.47;1.46.1;1.46.0;1.46;1.45.0;1.45;1.44.0;1.44;1.43.0;1.43;1.42.0;1.42;1.41.0;1.41;1.40.0;1.40;1.39.0;1.39;1.38.0;1.38;1.37.0;1.37;1.36.1;1.36.0;1.36;1.35.1;1.35.0;1.35;1.34.1;1.34.0;1.34;1.33.1;1.33.0;1.33\n",
        "-- [ C:/Program Files (x86)/CMake 2.8/share/cmake-2.8/Modules/FindBoost.cmake:705 ] Include debugging info:\n",
        "-- [ C:/Program Files (x86)/CMake 2.8/share/cmake-2.8/Modules/FindBoost.cmake:707 ]   _boost_INCLUDE_SEARCH_DIRS = c:/boost/include/boost-1_53;C:/boost/include;C:/boost;C:\\Program Files (x86)/boost/include;C:\\Program Files (x86)/boost;/sw/local/include\n",
        "-- [ C:/Program Files (x86)/CMake 2.8/share/cmake-2.8/Modules/FindBoost.cmake:709 ]   _boost_PATH_SUFFIXES = boost-1_56_0;boost_1_56_0;boost-1_56;boost_1_56;boost-1_55_0;boost_1_55_0;boost-1_55;boost_1_55;boost-1_54_0;boost_1_54_0;boost-1_54;boost_1_54;boost-1_53_0;boost_1_53_0;boost-1_53;boost_1_53;boost-1_52_0;boost_1_52_0;boost-1_52;boost_1_52;boost-1_51_0;boost_1_51_0;boost-1_51;boost_1_51;boost-1_50_0;boost_1_50_0;boost-1_50;boost_1_50;boost-1_49_0;boost_1_49_0;boost-1_49;boost_1_49;boost-1_48_0;boost_1_48_0;boost-1_48;boost_1_48;boost-1_47_0;boost_1_47_0;boost-1_47;boost_1_47;boost-1_46_1;boost_1_46_1;boost-1_46_0;boost_1_46_0;boost-1_46;boost_1_46;boost-1_45_0;boost_1_45_0;boost-1_45;boost_1_45;boost-1_44_0;boost_1_44_0;boost-1_44;boost_1_44;boost-1_43_0;boost_1_43_0;boost-1_43;boost_1_43;boost-1_42_0;boost_1_42_0;boost-1_42;boost_1_42;boost-1_41_0;boost_1_41_0;boost-1_41;boost_1_41;boost-1_40_0;boost_1_40_0;boost-1_40;boost_1_40;boost-1_39_0;boost_1_39_0;boost-1_39;boost_1_39;boost-1_38_0;boost_1_38_0;boost-1_38;boost_1_38;boost-1_37_0;boost_1_37_0;boost-1_37;boost_1_37;boost-1_36_1;boost_1_36_1;boost-1_36_0;boost_1_36_0;boost-1_36;boost_1_36;boost-1_35_1;boost_1_35_1;boost-1_35_0;boost_1_35_0;boost-1_35;boost_1_35;boost-1_34_1;boost_1_34_1;boost-1_34_0;boost_1_34_0;boost-1_34;boost_1_34;boost-1_33_1;boost_1_33_1;boost-1_33_0;boost_1_33_0;boost-1_33;boost_1_33\n",
        "-- [ C:/Program Files (x86)/CMake 2.8/share/cmake-2.8/Modules/FindBoost.cmake:734 ] location of version.hpp: c:/Boost/include/boost-1_53/boost/version.hpp\n",
        "-- [ C:/Program Files (x86)/CMake 2.8/share/cmake-2.8/Modules/FindBoost.cmake:754 ] version.hpp reveals boost 1.53.0\n",
        "-- [ C:/Program Files (x86)/CMake 2.8/share/cmake-2.8/Modules/FindBoost.cmake:786 ] guessed _boost_COMPILER = -vc90\n",
        "-- [ C:/Program Files (x86)/CMake 2.8/share/cmake-2.8/Modules/FindBoost.cmake:796 ] _boost_MULTITHREADED = -mt\n",
        "-- [ C:/Program Files (x86)/CMake 2.8/share/cmake-2.8/Modules/FindBoost.cmake:839 ] _boost_RELEASE_ABI_TAG = -\n",
        "-- [ C:/Program Files (x86)/CMake 2.8/share/cmake-2.8/Modules/FindBoost.cmake:841 ] _boost_DEBUG_ABI_TAG = -gd\n",
        "-- [ C:/Program Files (x86)/CMake 2.8/share/cmake-2.8/Modules/FindBoost.cmake:884 ] _boost_LIBRARY_SEARCH_DIRS = c:/boost/lib64;c:/Boost/include/boost-1_53/lib;c:/Boost/include/boost-1_53/../lib;c:/Boost/include/boost-1_53/stage/lib;C:/boost/lib;C:/boost;C:\\Program Files (x86)/boost/boost_1_53_0/lib;C:\\Program Files (x86)/boost/boost_1_53/lib;C:\\Program Files (x86)/boost/lib;C:\\Program Files (x86)/boost;/sw/local/lib\n",
        "-- [ C:/Program Files (x86)/CMake 2.8/share/cmake-2.8/Modules/FindBoost.cmake:962 ] Searching for PYTHON_LIBRARY_RELEASE: boost_python-vc90-mt-1_53;boost_python-vc90-mt;boost_python-mt-1_53;boost_python-mt;boost_python\n",
        "-- [ C:/Program Files (x86)/CMake 2.8/share/cmake-2.8/Modules/FindBoost.cmake:994 ] Searching for PYTHON_LIBRARY_DEBUG: boost_python-vc90-mt-gd-1_53;boost_python-vc90-mt-gd;boost_python-mt-gd-1_53;boost_python-mt-gd;boost_python-mt;boost_python\n",
        "-- [ C:/Program Files (x86)/CMake 2.8/share/cmake-2.8/Modules/FindBoost.cmake:1108 ] Boost_FOUND = FALSE\n",
        "-- Could NOT find Boost\n",
        "Boost version: 1.53.0\n",
        "Boost include path: c:/Boost/include/boost-1_53\n",
        "The following Boost libraries could not be found:\n",
        "        boost_python\n",
        "No Boost libraries were found. You may need to set BOOST_LIBRARYDIR to the directory containing Boost libraries or BOOST_ROOT to the location of Boost.\n",
        "-- Configuring done\n",
        "-- Generating done\n",
        "-- Build files have been written to: C:/Users/jse/projects/scorepyon\n"
       ]
      }
     ],
     "prompt_number": 14
    },
    {
     "cell_type": "code",
     "collapsed": false,
     "input": [
      "!del cmakejit_module.pyd\n",
      "!del cmakejit_module.dll\n",
      "!msbuild cmakejit_module.sln /t:Rebuild /p:Configuration=Release"
     ],
     "language": "python",
     "metadata": {},
     "outputs": [
      {
       "output_type": "stream",
       "stream": "stderr",
       "text": [
        "Could Not Find c:\\Users\\jse\\projects\\scorepyon\\cmakejit_module.pyd\n"
       ]
      },
      {
       "output_type": "stream",
       "stream": "stderr",
       "text": [
        "Could Not Find c:\\Users\\jse\\projects\\scorepyon\\cmakejit_module.dll\n"
       ]
      },
      {
       "output_type": "stream",
       "stream": "stdout",
       "text": [
        "Microsoft (R) Build Engine version 4.0.30319.17929\n",
        "[Microsoft .NET Framework, version 4.0.30319.18034]\n",
        "Copyright (C) Microsoft Corporation. All rights reserved.\n",
        "\n",
        "Building the projects in this solution one at a time. To enable parallel build, please add the \"/m\" switch.\n",
        "Build started 16.05.2013 09:53:41.\n",
        "Project \"c:\\Users\\jse\\projects\\scorepyon\\cmakejit_module.sln\" on node 1 (Rebuild target(s)).\n",
        "ValidateSolutionConfiguration:\n",
        "  Building solution configuration \"Release|X64\".\n",
        "ValidateProjects:\n",
        "  The project \"ALL_BUILD\" is not selected for building in solution configuration \"Release|x64\".\n",
        "Project \"c:\\Users\\jse\\projects\\scorepyon\\cmakejit_module.sln\" (1) is building \"c:\\Users\\jse\\projects\\scorepyon\\ZERO_CHECK.vcxproj\" (2) on node 1 (Rebuild target(s)).\n",
        "_PrepareForClean:\n",
        "  Deleting file \"x64\\Release\\ZERO_CHECK\\ZERO_CHECK.lastbuildstate\".\n",
        "InitializeBuildStatus:\n",
        "  Creating \"x64\\Release\\ZERO_CHECK\\ZERO_CHECK.unsuccessfulbuild\" because \"AlwaysCreate\" was specified.\n",
        "CustomBuild:\n",
        "  Checking Build System\n",
        "  CMake does not need to re-run because C:/Users/jse/projects/scorepyon/CMakeFiles/generate.stamp is up-to-date.\n",
        "FinalizeBuildStatus:\n",
        "  Deleting file \"x64\\Release\\ZERO_CHECK\\ZERO_CHECK.unsuccessfulbuild\".\n",
        "  Touching \"x64\\Release\\ZERO_CHECK\\ZERO_CHECK.lastbuildstate\".\n",
        "Done Building Project \"c:\\Users\\jse\\projects\\scorepyon\\ZERO_CHECK.vcxproj\" (Rebuild target(s)).\n",
        "Project \"c:\\Users\\jse\\projects\\scorepyon\\cmakejit_module.sln\" (1) is building \"c:\\Users\\jse\\projects\\scorepyon\\cmakejit_module.vcxproj.metaproj\" (3) on node 1 (Rebuild target(s)).\n",
        "Project \"c:\\Users\\jse\\projects\\scorepyon\\cmakejit_module.vcxproj.metaproj\" (3) is building \"c:\\Users\\jse\\projects\\scorepyon\\cmakejit_module.vcxproj\" (4) on node 1 (Rebuild target(s)).\n",
        "_PrepareForClean:\n",
        "  Deleting file \"cmakejit_module.dir\\Release\\cmakejit_module.lastbuildstate\".\n",
        "InitializeBuildStatus:\n",
        "  Creating \"cmakejit_module.dir\\Release\\cmakejit_module.unsuccessfulbuild\" because \"AlwaysCreate\" was specified.\n",
        "CustomBuild:\n",
        "  Building Custom Rule C:/Users/jse/projects/scorepyon/CMakeLists.txt\n",
        "  CMake does not need to re-run because C:\\Users\\jse\\projects\\scorepyon\\CMakeFiles\\generate.stamp is up-to-date.\n",
        "ClCompile:\n",
        "  c:\\Program Files (x86)\\Microsoft Visual Studio 10.0\\VC\\bin\\AMD64\\CL.exe /c /Ic:/anaconda/include /I\"c:/Boost/include/boost-1_53\" /nologo /W3 /WX- /O2 /Ob2 /D WIN32 /D _WINDOWS /D NDEBUG /D BOOST_ALL_DYN_LINK=1 /D \"CMAKE_INTDIR=\\\"Release\\\"\" /D cmakejit_module_EXPORTS /D _WINDLL /D _MBCS /Gm- /EHsc /MD /GS /fp:precise /Zc:wchar_t /Zc:forScope /GR /Fo\"cmakejit_module.dir\\Release\\\\\" /Fd\"C:/Users/jse/projects/scorepyon/Release/cmakejit_module.pdb\" /Gd /TP /errorReport:queue cmakejit.cpp  /Zm1000 \n",
        "  cmakejit.cpp\n",
        "c:/Boost/include/boost-1_53\\boost/python/detail/caller.hpp(55): warning C4244: 'return' : conversion from 'Py_ssize_t' to 'unsigned int', possible loss of data [c:\\Users\\jse\\projects\\scorepyon\\cmakejit_module.vcxproj]\n",
        "Link:\n",
        "  c:\\Program Files (x86)\\Microsoft Visual Studio 10.0\\VC\\bin\\AMD64\\link.exe /ERRORREPORT:QUEUE /OUT:\"C:\\Users\\jse\\projects\\scorepyon\\Release\\cmakejit_module.dll\" /INCREMENTAL:NO /NOLOGO kernel32.lib user32.lib gdi32.lib winspool.lib shell32.lib ole32.lib oleaut32.lib uuid.lib comdlg32.lib advapi32.lib \"c:\\Boost\\lib64\\boost_python-vc100-mt-1_53.lib\" c:\\anaconda\\libs\\python27.lib /MANIFEST /ManifestFile:\"cmakejit_module.dir\\Release\\cmakejit_module.dll.intermediate.manifest\" /MANIFESTUAC:\"level='asInvoker' uiAccess='false'\" /PDB:\"C:/Users/jse/projects/scorepyon/Release/cmakejit_module.pdb\" /SUBSYSTEM:CONSOLE /STACK:\"10000000\" /TLBID:1 /DYNAMICBASE /NXCOMPAT /IMPLIB:\"C:/Users/jse/projects/scorepyon/Release/cmakejit_module.lib\" /MACHINE:X64 /DLL cmakejit_module.dir\\Release\\cmakejit.obj  /machine:x64 \n",
        "     Creating library C:/Users/jse/projects/scorepyon/Release/cmakejit_module.lib and object C:/Users/jse/projects/scorepyon/Release/cmakejit_module.exp\n",
        "  cmakejit_module.vcxproj -> C:\\Users\\jse\\projects\\scorepyon\\Release\\cmakejit_module.dll\n",
        "Manifest:\n",
        "  C:\\Program Files (x86)\\Microsoft SDKs\\Windows\\v7.0A\\bin\\x64\\mt.exe /nologo /verbose /outputresource:\"C:\\Users\\jse\\projects\\scorepyon\\Release\\cmakejit_module.dll;#2\" /manifest cmakejit_module.dir\\Release\\cmakejit_module.dll.intermediate.manifest\n",
        "FinalizeBuildStatus:\n",
        "  Deleting file \"cmakejit_module.dir\\Release\\cmakejit_module.unsuccessfulbuild\".\n",
        "  Touching \"cmakejit_module.dir\\Release\\cmakejit_module.lastbuildstate\".\n",
        "Done Building Project \"c:\\Users\\jse\\projects\\scorepyon\\cmakejit_module.vcxproj\" (Rebuild target(s)).\n",
        "Done Building Project \"c:\\Users\\jse\\projects\\scorepyon\\cmakejit_module.vcxproj.metaproj\" (Rebuild target(s)).\n",
        "Done Building Project \"c:\\Users\\jse\\projects\\scorepyon\\cmakejit_module.sln\" (Rebuild target(s)).\n",
        "\n",
        "Build succeeded.\n",
        "\n",
        "\"c:\\Users\\jse\\projects\\scorepyon\\cmakejit_module.sln\" (Rebuild target) (1) ->\n",
        "\"c:\\Users\\jse\\projects\\scorepyon\\cmakejit_module.vcxproj.metaproj\" (Rebuild target) (3) ->\n",
        "\"c:\\Users\\jse\\projects\\scorepyon\\cmakejit_module.vcxproj\" (Rebuild target) (4) ->\n",
        "(ClCompile target) -> \n",
        "  c:/Boost/include/boost-1_53\\boost/python/detail/caller.hpp(55): warning C4244: 'return' : conversion from 'Py_ssize_t' to 'unsigned int', possible loss of data [c:\\Users\\jse\\projects\\scorepyon\\cmakejit_module.vcxproj]\n",
        "\n",
        "    1 Warning(s)\n",
        "    0 Error(s)\n",
        "\n",
        "Time Elapsed 00:00:04.95\n"
       ]
      }
     ],
     "prompt_number": 11
    },
    {
     "cell_type": "code",
     "collapsed": false,
     "input": [
      "import sys\n",
      "sys.path.append(\"c:/users/jse/projects/scorepyon/Release\")\n",
      "                "
     ],
     "language": "python",
     "metadata": {},
     "outputs": [],
     "prompt_number": 12
    },
    {
     "cell_type": "code",
     "collapsed": false,
     "input": [
      "import cmakejit_module"
     ],
     "language": "python",
     "metadata": {},
     "outputs": [
      {
       "ename": "ImportError",
       "evalue": "DLL load failed: %1 is not a valid Win32 application.",
       "output_type": "pyerr",
       "traceback": [
        "\u001b[1;31m---------------------------------------------------------------------------\u001b[0m\n\u001b[1;31mImportError\u001b[0m                               Traceback (most recent call last)",
        "\u001b[1;32m<ipython-input-13-773edf810283>\u001b[0m in \u001b[0;36m<module>\u001b[1;34m()\u001b[0m\n\u001b[1;32m----> 1\u001b[1;33m \u001b[1;32mimport\u001b[0m \u001b[0mcmakejit_module\u001b[0m\u001b[1;33m\u001b[0m\u001b[0m\n\u001b[0m",
        "\u001b[1;31mImportError\u001b[0m: DLL load failed: %1 is not a valid Win32 application."
       ]
      }
     ],
     "prompt_number": 13
    },
    {
     "cell_type": "code",
     "collapsed": false,
     "input": [
      "2**63-1 == sys.maxint"
     ],
     "language": "python",
     "metadata": {},
     "outputs": [
      {
       "output_type": "pyout",
       "prompt_number": 57,
       "text": [
        "False"
       ]
      }
     ],
     "prompt_number": 57
    },
    {
     "cell_type": "code",
     "collapsed": false,
     "input": [
      "import platform\n",
      "platform.architecture()"
     ],
     "language": "python",
     "metadata": {},
     "outputs": [
      {
       "output_type": "pyout",
       "prompt_number": 56,
       "text": [
        "('64bit', 'WindowsPE')"
       ]
      }
     ],
     "prompt_number": 56
    },
    {
     "cell_type": "code",
     "collapsed": false,
     "input": [
      "?platform.architecture"
     ],
     "language": "python",
     "metadata": {},
     "outputs": [],
     "prompt_number": 58
    },
    {
     "cell_type": "code",
     "collapsed": false,
     "input": [],
     "language": "python",
     "metadata": {},
     "outputs": []
    }
   ],
   "metadata": {}
  }
 ]
}